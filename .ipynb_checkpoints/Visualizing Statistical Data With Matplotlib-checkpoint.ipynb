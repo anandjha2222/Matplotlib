{
 "cells": [
  {
   "cell_type": "markdown",
   "metadata": {},
   "source": [
    "We will discuss on below:\n",
    "    1. boxplot and violinplot\n",
    "    2. ploting and customizing pie & histogram charts\n",
    "    3. visualize autocorrelations and changes from base line using stemplots\n",
    "    4. customize and use stackplots\n",
    "    \n",
    "Box Plot and Violin plot are used to view important statistical information about any dataset.    "
   ]
  },
  {
   "cell_type": "markdown",
   "metadata": {},
   "source": [
    "<h2>Box Plot</h2>"
   ]
  },
  {
   "cell_type": "code",
   "execution_count": 11,
   "metadata": {},
   "outputs": [],
   "source": [
    "import numpy as np\n",
    "import matplotlib\n",
    "import matplotlib.pyplot as plt"
   ]
  },
  {
   "cell_type": "code",
   "execution_count": 5,
   "metadata": {},
   "outputs": [
    {
     "data": {
      "text/plain": [
       "array([ 0,  2,  4,  5,  5,  6,  7,  8,  8, 11, 11, 12, 12, 14, 14, 14, 14,\n",
       "       15, 16, 17])"
      ]
     },
     "execution_count": 5,
     "metadata": {},
     "output_type": "execute_result"
    }
   ],
   "source": [
    "x = np.random.randint(0,20,20)\n",
    "x.sort()\n",
    "x"
   ]
  },
  {
   "cell_type": "code",
   "execution_count": 18,
   "metadata": {},
   "outputs": [
    {
     "data": {
      "text/plain": [
       "{'whiskers': [<matplotlib.lines.Line2D at 0x12cc37560c8>,\n",
       "  <matplotlib.lines.Line2D at 0x12cc36b1188>],\n",
       " 'caps': [<matplotlib.lines.Line2D at 0x12cc3756388>,\n",
       "  <matplotlib.lines.Line2D at 0x12cc375ba48>],\n",
       " 'boxes': [<matplotlib.lines.Line2D at 0x12cc36b12c8>],\n",
       " 'medians': [<matplotlib.lines.Line2D at 0x12cc3769d88>],\n",
       " 'fliers': [<matplotlib.lines.Line2D at 0x12cc3769f48>],\n",
       " 'means': []}"
      ]
     },
     "execution_count": 18,
     "metadata": {},
     "output_type": "execute_result"
    },
    {
     "data": {
      "image/png": "[encoded data removed]",
      "text/plain": [
       "<Figure size 432x288 with 1 Axes>"
      ]
     },
     "metadata": {
      "needs_background": "light"
     },
     "output_type": "display_data"
    }
   ],
   "source": [
    "plt.boxplot(x)\n",
    "# plt.show()"
   ]
  },
  {
   "cell_type": "markdown",
   "metadata": {},
   "source": [
    "The boxplot represents values between the **25th and 75th** percentiles.\n",
    "Central horizontal line is **median** of the data, as box plot is drawn using sorted data.\n",
    "The **caps** at both end represent the range of values(excluding outliers) in the data.\n",
    "The **Whiskers** are the bars which connect the box with the caps"
   ]
  },
  {
   "cell_type": "markdown",
   "metadata": {},
   "source": [
    "*Let's add a high value to change the dimension of the boxplot*\n",
    "\n",
    "*NOTE* : Matplot does not consider added value 22 as outlier, instead, the top gap of the dataset has extended to include the value 22 and median of our data has also changed."
   ]
  },
  {
   "cell_type": "code",
   "execution_count": 11,
   "metadata": {},
   "outputs": [
    {
     "data": {
      "image/png": "[encoded data removed]",
      "text/plain": [
       "<Figure size 432x288 with 1 Axes>"
      ]
     },
     "metadata": {
      "needs_background": "light"
     },
     "output_type": "display_data"
    }
   ],
   "source": [
    "x = np.append(x, 22)\n",
    "plt.boxplot(x)\n",
    "plt.show()"
   ]
  },
  {
   "cell_type": "markdown",
   "metadata": {},
   "source": [
    "Adding data points which will be clear outliers in our data set. Let's add 37 and 40 to the dataset which are clear outliers for initial dataset.\n",
    "\n",
    "*Outliers are represented by circles outside the box called Fliers*"
   ]
  },
  {
   "cell_type": "code",
   "execution_count": 13,
   "metadata": {},
   "outputs": [
    {
     "data": {
      "image/png": "[encoded data removed]",
      "text/plain": [
       "<Figure size 432x288 with 1 Axes>"
      ]
     },
     "metadata": {
      "needs_background": "light"
     },
     "output_type": "display_data"
    }
   ],
   "source": [
    "x = np.append(x, 37)\n",
    "x = np.append(x, 40)\n",
    "\n",
    "plt.boxplot(x)\n",
    "plt.show()"
   ]
  },
  {
   "cell_type": "markdown",
   "metadata": {},
   "source": [
    "Matplotlib pots the boxplot vertically oriented by default. Use vert=False to make it horizontal."
   ]
  },
  {
   "cell_type": "code",
   "execution_count": 14,
   "metadata": {},
   "outputs": [
    {
     "data": {
      "image/png": "[encoded data removed]",
      "text/plain": [
       "<Figure size 432x288 with 1 Axes>"
      ]
     },
     "metadata": {
      "needs_background": "light"
     },
     "output_type": "display_data"
    }
   ],
   "source": [
    "plt.boxplot(x, vert=False)\n",
    "plt.show()"
   ]
  },
  {
   "cell_type": "markdown",
   "metadata": {},
   "source": [
    "If median value is significant and you want to draw attention to it, add notch=True"
   ]
  },
  {
   "cell_type": "code",
   "execution_count": 15,
   "metadata": {},
   "outputs": [
    {
     "data": {
      "image/png": "[encoded data removed]",
      "text/plain": [
       "<Figure size 432x288 with 1 Axes>"
      ]
     },
     "metadata": {
      "needs_background": "light"
     },
     "output_type": "display_data"
    }
   ],
   "source": [
    "plt.boxplot(x, vert=False, notch=True)\n",
    "plt.show()"
   ]
  },
  {
   "cell_type": "markdown",
   "metadata": {},
   "source": [
    "If you want to discard outliers at all, use showfliers=False"
   ]
  },
  {
   "cell_type": "code",
   "execution_count": 16,
   "metadata": {},
   "outputs": [
    {
     "data": {
      "image/png": "[encoded data removed]",
      "text/plain": [
       "<Figure size 432x288 with 1 Axes>"
      ]
     },
     "metadata": {
      "needs_background": "light"
     },
     "output_type": "display_data"
    }
   ],
   "source": [
    "plt.boxplot(x, vert=False, notch=True, showfliers=False)\n",
    "plt.show()"
   ]
  },
  {
   "cell_type": "markdown",
   "metadata": {},
   "source": [
    "The default boxplot is  a Line2D object which only allows formatting of the edges. By seting patch_artist=True, we turn it into a 2D Patch"
   ]
  },
  {
   "cell_type": "code",
   "execution_count": 17,
   "metadata": {},
   "outputs": [
    {
     "data": {
      "image/png": "[encoded data removed]",
      "text/plain": [
       "<Figure size 432x288 with 1 Axes>"
      ]
     },
     "metadata": {
      "needs_background": "light"
     },
     "output_type": "display_data"
    }
   ],
   "source": [
    "bp = plt.boxplot(x, vert=False, patch_artist=True)"
   ]
  },
  {
   "cell_type": "markdown",
   "metadata": {},
   "source": [
    "Our boxplot patch is basically just a dictionary that allows us to access the individual components of this 2D patch using the square brackets."
   ]
  },
  {
   "cell_type": "code",
   "execution_count": 19,
   "metadata": {},
   "outputs": [
    {
     "name": "stdout",
     "output_type": "stream",
     "text": [
      "Number of boxes  1\n",
      "Number of whiskers  2\n",
      "Number of caps  2\n",
      "Number of medians  1\n",
      "Number of fliers  1\n"
     ]
    }
   ],
   "source": [
    "print('Number of boxes ', len(bp['boxes']))\n",
    "print('Number of whiskers ', len(bp['whiskers']))\n",
    "print('Number of caps ', len(bp['caps']))\n",
    "print('Number of medians ', len(bp['medians']))\n",
    "print('Number of fliers ', len(bp['fliers']))"
   ]
  },
  {
   "cell_type": "code",
   "execution_count": 20,
   "metadata": {},
   "outputs": [
    {
     "data": {
      "text/plain": [
       "[None, None, None]"
      ]
     },
     "execution_count": 20,
     "metadata": {},
     "output_type": "execute_result"
    },
    {
     "data": {
      "image/png": "[encoded data removed]",
      "text/plain": [
       "<Figure size 432x288 with 1 Axes>"
      ]
     },
     "metadata": {
      "needs_background": "light"
     },
     "output_type": "display_data"
    }
   ],
   "source": [
    "bp = plt.boxplot(x, vert=False, patch_artist=True)\n",
    "\n",
    "bp['boxes'][0].set(facecolor='lightyellow', edgecolor='maroon', hatch='.')"
   ]
  },
  {
   "cell_type": "code",
   "execution_count": 21,
   "metadata": {},
   "outputs": [
    {
     "data": {
      "text/plain": [
       "[None, None]"
      ]
     },
     "execution_count": 21,
     "metadata": {},
     "output_type": "execute_result"
    },
    {
     "data": {
      "image/png": "[encoded data removed]",
      "text/plain": [
       "<Figure size 432x288 with 1 Axes>"
      ]
     },
     "metadata": {
      "needs_background": "light"
     },
     "output_type": "display_data"
    }
   ],
   "source": [
    "bp = plt.boxplot(x, vert=False, patch_artist=True)\n",
    "\n",
    "bp['boxes'][0].set(facecolor='lightyellow', edgecolor='maroon', hatch='.')\n",
    "\n",
    "bp['whiskers'][0].set(color='red', linewidth=2)\n",
    "\n",
    "bp['whiskers'][1].set(color='blue', linewidth=4)"
   ]
  },
  {
   "cell_type": "code",
   "execution_count": 22,
   "metadata": {},
   "outputs": [
    {
     "data": {
      "text/plain": [
       "[None, None]"
      ]
     },
     "execution_count": 22,
     "metadata": {},
     "output_type": "execute_result"
    },
    {
     "data": {
      "image/png": "[encoded data removed]",
      "text/plain": [
       "<Figure size 432x288 with 1 Axes>"
      ]
     },
     "metadata": {
      "needs_background": "light"
     },
     "output_type": "display_data"
    }
   ],
   "source": [
    "bp = plt.boxplot(x, vert=False, patch_artist=True)\n",
    "\n",
    "bp['boxes'][0].set(facecolor='lightyellow', edgecolor='maroon', hatch='/')\n",
    "\n",
    "bp['fliers'][0].set(marker='D', markerfacecolor='blue')"
   ]
  },
  {
   "cell_type": "code",
   "execution_count": 24,
   "metadata": {},
   "outputs": [
    {
     "data": {
      "text/plain": [
       "[None, None]"
      ]
     },
     "execution_count": 24,
     "metadata": {},
     "output_type": "execute_result"
    },
    {
     "data": {
      "image/png": "[encoded data removed]",
      "text/plain": [
       "<Figure size 432x288 with 1 Axes>"
      ]
     },
     "metadata": {
      "needs_background": "light"
     },
     "output_type": "display_data"
    }
   ],
   "source": [
    "bp = plt.boxplot(x, patch_artist=True)\n",
    "\n",
    "bp['boxes'][0].set(facecolor='lightyellow', edgecolor='maroon')\n",
    "\n",
    "bp['medians'][0].set(linestyle='--', linewidth=3)"
   ]
  },
  {
   "cell_type": "markdown",
   "metadata": {},
   "source": [
    "Let's work with real data and plot Boxplot for that"
   ]
  },
  {
   "cell_type": "code",
   "execution_count": 9,
   "metadata": {},
   "outputs": [],
   "source": [
    "import pandas as pd\n",
    "import numpy as np"
   ]
  },
  {
   "cell_type": "code",
   "execution_count": 4,
   "metadata": {},
   "outputs": [
    {
     "data": {
      "text/html": [
       "<div>\n",
       "<style scoped>\n",
       "    .dataframe tbody tr th:only-of-type {\n",
       "        vertical-align: middle;\n",
       "    }\n",
       "\n",
       "    .dataframe tbody tr th {\n",
       "        vertical-align: top;\n",
       "    }\n",
       "\n",
       "    .dataframe thead th {\n",
       "        text-align: right;\n",
       "    }\n",
       "</style>\n",
       "<table border=\"1\" class=\"dataframe\">\n",
       "  <thead>\n",
       "    <tr style=\"text-align: right;\">\n",
       "      <th></th>\n",
       "      <th>Unnamed: 0</th>\n",
       "      <th>AA</th>\n",
       "      <th>AAPL</th>\n",
       "      <th>GE</th>\n",
       "      <th>IBM</th>\n",
       "      <th>JNJ</th>\n",
       "      <th>MSFT</th>\n",
       "      <th>PEP</th>\n",
       "      <th>SPX</th>\n",
       "      <th>XOM</th>\n",
       "    </tr>\n",
       "  </thead>\n",
       "  <tbody>\n",
       "    <tr>\n",
       "      <th>0</th>\n",
       "      <td>1990-02-01 00:00:00</td>\n",
       "      <td>4.98</td>\n",
       "      <td>7.86</td>\n",
       "      <td>2.87</td>\n",
       "      <td>16.79</td>\n",
       "      <td>4.27</td>\n",
       "      <td>0.51</td>\n",
       "      <td>6.04</td>\n",
       "      <td>328.79</td>\n",
       "      <td>6.12</td>\n",
       "    </tr>\n",
       "    <tr>\n",
       "      <th>1</th>\n",
       "      <td>1990-02-02 00:00:00</td>\n",
       "      <td>5.04</td>\n",
       "      <td>8.00</td>\n",
       "      <td>2.87</td>\n",
       "      <td>16.89</td>\n",
       "      <td>4.37</td>\n",
       "      <td>0.51</td>\n",
       "      <td>6.09</td>\n",
       "      <td>330.92</td>\n",
       "      <td>6.24</td>\n",
       "    </tr>\n",
       "    <tr>\n",
       "      <th>2</th>\n",
       "      <td>1990-02-05 00:00:00</td>\n",
       "      <td>5.07</td>\n",
       "      <td>8.18</td>\n",
       "      <td>2.87</td>\n",
       "      <td>17.32</td>\n",
       "      <td>4.34</td>\n",
       "      <td>0.51</td>\n",
       "      <td>6.05</td>\n",
       "      <td>331.85</td>\n",
       "      <td>6.25</td>\n",
       "    </tr>\n",
       "    <tr>\n",
       "      <th>3</th>\n",
       "      <td>1990-02-06 00:00:00</td>\n",
       "      <td>5.01</td>\n",
       "      <td>8.12</td>\n",
       "      <td>2.88</td>\n",
       "      <td>17.56</td>\n",
       "      <td>4.32</td>\n",
       "      <td>0.51</td>\n",
       "      <td>6.15</td>\n",
       "      <td>329.66</td>\n",
       "      <td>6.23</td>\n",
       "    </tr>\n",
       "    <tr>\n",
       "      <th>4</th>\n",
       "      <td>1990-02-07 00:00:00</td>\n",
       "      <td>5.04</td>\n",
       "      <td>7.77</td>\n",
       "      <td>2.91</td>\n",
       "      <td>17.93</td>\n",
       "      <td>4.38</td>\n",
       "      <td>0.51</td>\n",
       "      <td>6.17</td>\n",
       "      <td>333.75</td>\n",
       "      <td>6.33</td>\n",
       "    </tr>\n",
       "    <tr>\n",
       "      <th>...</th>\n",
       "      <td>...</td>\n",
       "      <td>...</td>\n",
       "      <td>...</td>\n",
       "      <td>...</td>\n",
       "      <td>...</td>\n",
       "      <td>...</td>\n",
       "      <td>...</td>\n",
       "      <td>...</td>\n",
       "      <td>...</td>\n",
       "      <td>...</td>\n",
       "    </tr>\n",
       "    <tr>\n",
       "      <th>5467</th>\n",
       "      <td>2011-10-10 00:00:00</td>\n",
       "      <td>10.09</td>\n",
       "      <td>388.81</td>\n",
       "      <td>16.14</td>\n",
       "      <td>186.62</td>\n",
       "      <td>64.43</td>\n",
       "      <td>26.94</td>\n",
       "      <td>61.87</td>\n",
       "      <td>1194.89</td>\n",
       "      <td>76.28</td>\n",
       "    </tr>\n",
       "    <tr>\n",
       "      <th>5468</th>\n",
       "      <td>2011-10-11 00:00:00</td>\n",
       "      <td>10.30</td>\n",
       "      <td>400.29</td>\n",
       "      <td>16.14</td>\n",
       "      <td>185.00</td>\n",
       "      <td>63.96</td>\n",
       "      <td>27.00</td>\n",
       "      <td>60.95</td>\n",
       "      <td>1195.54</td>\n",
       "      <td>76.27</td>\n",
       "    </tr>\n",
       "    <tr>\n",
       "      <th>5469</th>\n",
       "      <td>2011-10-12 00:00:00</td>\n",
       "      <td>10.05</td>\n",
       "      <td>402.19</td>\n",
       "      <td>16.40</td>\n",
       "      <td>186.12</td>\n",
       "      <td>64.33</td>\n",
       "      <td>26.96</td>\n",
       "      <td>62.70</td>\n",
       "      <td>1207.25</td>\n",
       "      <td>77.16</td>\n",
       "    </tr>\n",
       "    <tr>\n",
       "      <th>5470</th>\n",
       "      <td>2011-10-13 00:00:00</td>\n",
       "      <td>10.10</td>\n",
       "      <td>408.43</td>\n",
       "      <td>16.22</td>\n",
       "      <td>186.82</td>\n",
       "      <td>64.23</td>\n",
       "      <td>27.18</td>\n",
       "      <td>62.36</td>\n",
       "      <td>1203.66</td>\n",
       "      <td>76.37</td>\n",
       "    </tr>\n",
       "    <tr>\n",
       "      <th>5471</th>\n",
       "      <td>2011-10-14 00:00:00</td>\n",
       "      <td>10.26</td>\n",
       "      <td>422.00</td>\n",
       "      <td>16.60</td>\n",
       "      <td>190.53</td>\n",
       "      <td>64.72</td>\n",
       "      <td>27.27</td>\n",
       "      <td>62.24</td>\n",
       "      <td>1224.58</td>\n",
       "      <td>78.11</td>\n",
       "    </tr>\n",
       "  </tbody>\n",
       "</table>\n",
       "<p>5472 rows × 10 columns</p>\n",
       "</div>"
      ],
      "text/plain": [
       "               Unnamed: 0     AA    AAPL     GE     IBM    JNJ   MSFT    PEP  \\\n",
       "0     1990-02-01 00:00:00   4.98    7.86   2.87   16.79   4.27   0.51   6.04   \n",
       "1     1990-02-02 00:00:00   5.04    8.00   2.87   16.89   4.37   0.51   6.09   \n",
       "2     1990-02-05 00:00:00   5.07    8.18   2.87   17.32   4.34   0.51   6.05   \n",
       "3     1990-02-06 00:00:00   5.01    8.12   2.88   17.56   4.32   0.51   6.15   \n",
       "4     1990-02-07 00:00:00   5.04    7.77   2.91   17.93   4.38   0.51   6.17   \n",
       "...                   ...    ...     ...    ...     ...    ...    ...    ...   \n",
       "5467  2011-10-10 00:00:00  10.09  388.81  16.14  186.62  64.43  26.94  61.87   \n",
       "5468  2011-10-11 00:00:00  10.30  400.29  16.14  185.00  63.96  27.00  60.95   \n",
       "5469  2011-10-12 00:00:00  10.05  402.19  16.40  186.12  64.33  26.96  62.70   \n",
       "5470  2011-10-13 00:00:00  10.10  408.43  16.22  186.82  64.23  27.18  62.36   \n",
       "5471  2011-10-14 00:00:00  10.26  422.00  16.60  190.53  64.72  27.27  62.24   \n",
       "\n",
       "          SPX    XOM  \n",
       "0      328.79   6.12  \n",
       "1      330.92   6.24  \n",
       "2      331.85   6.25  \n",
       "3      329.66   6.23  \n",
       "4      333.75   6.33  \n",
       "...       ...    ...  \n",
       "5467  1194.89  76.28  \n",
       "5468  1195.54  76.27  \n",
       "5469  1207.25  77.16  \n",
       "5470  1203.66  76.37  \n",
       "5471  1224.58  78.11  \n",
       "\n",
       "[5472 rows x 10 columns]"
      ]
     },
     "execution_count": 4,
     "metadata": {},
     "output_type": "execute_result"
    }
   ],
   "source": [
    "stock_data = pd.read_csv('resource/stock_px.csv')\n",
    "stock_data"
   ]
  },
  {
   "cell_type": "code",
   "execution_count": 5,
   "metadata": {},
   "outputs": [
    {
     "data": {
      "text/html": [
       "<div>\n",
       "<style scoped>\n",
       "    .dataframe tbody tr th:only-of-type {\n",
       "        vertical-align: middle;\n",
       "    }\n",
       "\n",
       "    .dataframe tbody tr th {\n",
       "        vertical-align: top;\n",
       "    }\n",
       "\n",
       "    .dataframe thead th {\n",
       "        text-align: right;\n",
       "    }\n",
       "</style>\n",
       "<table border=\"1\" class=\"dataframe\">\n",
       "  <thead>\n",
       "    <tr style=\"text-align: right;\">\n",
       "      <th></th>\n",
       "      <th>AA</th>\n",
       "      <th>AAPL</th>\n",
       "      <th>GE</th>\n",
       "    </tr>\n",
       "  </thead>\n",
       "  <tbody>\n",
       "    <tr>\n",
       "      <th>0</th>\n",
       "      <td>4.98</td>\n",
       "      <td>7.86</td>\n",
       "      <td>2.87</td>\n",
       "    </tr>\n",
       "    <tr>\n",
       "      <th>1</th>\n",
       "      <td>5.04</td>\n",
       "      <td>8.00</td>\n",
       "      <td>2.87</td>\n",
       "    </tr>\n",
       "    <tr>\n",
       "      <th>2</th>\n",
       "      <td>5.07</td>\n",
       "      <td>8.18</td>\n",
       "      <td>2.87</td>\n",
       "    </tr>\n",
       "    <tr>\n",
       "      <th>3</th>\n",
       "      <td>5.01</td>\n",
       "      <td>8.12</td>\n",
       "      <td>2.88</td>\n",
       "    </tr>\n",
       "    <tr>\n",
       "      <th>4</th>\n",
       "      <td>5.04</td>\n",
       "      <td>7.77</td>\n",
       "      <td>2.91</td>\n",
       "    </tr>\n",
       "    <tr>\n",
       "      <th>...</th>\n",
       "      <td>...</td>\n",
       "      <td>...</td>\n",
       "      <td>...</td>\n",
       "    </tr>\n",
       "    <tr>\n",
       "      <th>5467</th>\n",
       "      <td>10.09</td>\n",
       "      <td>388.81</td>\n",
       "      <td>16.14</td>\n",
       "    </tr>\n",
       "    <tr>\n",
       "      <th>5468</th>\n",
       "      <td>10.30</td>\n",
       "      <td>400.29</td>\n",
       "      <td>16.14</td>\n",
       "    </tr>\n",
       "    <tr>\n",
       "      <th>5469</th>\n",
       "      <td>10.05</td>\n",
       "      <td>402.19</td>\n",
       "      <td>16.40</td>\n",
       "    </tr>\n",
       "    <tr>\n",
       "      <th>5470</th>\n",
       "      <td>10.10</td>\n",
       "      <td>408.43</td>\n",
       "      <td>16.22</td>\n",
       "    </tr>\n",
       "    <tr>\n",
       "      <th>5471</th>\n",
       "      <td>10.26</td>\n",
       "      <td>422.00</td>\n",
       "      <td>16.60</td>\n",
       "    </tr>\n",
       "  </tbody>\n",
       "</table>\n",
       "<p>5472 rows × 3 columns</p>\n",
       "</div>"
      ],
      "text/plain": [
       "         AA    AAPL     GE\n",
       "0      4.98    7.86   2.87\n",
       "1      5.04    8.00   2.87\n",
       "2      5.07    8.18   2.87\n",
       "3      5.01    8.12   2.88\n",
       "4      5.04    7.77   2.91\n",
       "...     ...     ...    ...\n",
       "5467  10.09  388.81  16.14\n",
       "5468  10.30  400.29  16.14\n",
       "5469  10.05  402.19  16.40\n",
       "5470  10.10  408.43  16.22\n",
       "5471  10.26  422.00  16.60\n",
       "\n",
       "[5472 rows x 3 columns]"
      ]
     },
     "execution_count": 5,
     "metadata": {},
     "output_type": "execute_result"
    }
   ],
   "source": [
    "stock_data = stock_data[['AA','AAPL','GE']]\n",
    "stock_data"
   ]
  },
  {
   "cell_type": "code",
   "execution_count": 6,
   "metadata": {},
   "outputs": [
    {
     "data": {
      "text/html": [
       "<div>\n",
       "<style scoped>\n",
       "    .dataframe tbody tr th:only-of-type {\n",
       "        vertical-align: middle;\n",
       "    }\n",
       "\n",
       "    .dataframe tbody tr th {\n",
       "        vertical-align: top;\n",
       "    }\n",
       "\n",
       "    .dataframe thead th {\n",
       "        text-align: right;\n",
       "    }\n",
       "</style>\n",
       "<table border=\"1\" class=\"dataframe\">\n",
       "  <thead>\n",
       "    <tr style=\"text-align: right;\">\n",
       "      <th></th>\n",
       "      <th>AA</th>\n",
       "      <th>AAPL</th>\n",
       "      <th>GE</th>\n",
       "    </tr>\n",
       "  </thead>\n",
       "  <tbody>\n",
       "    <tr>\n",
       "      <th>count</th>\n",
       "      <td>5472.000000</td>\n",
       "      <td>5472.000000</td>\n",
       "      <td>5472.000000</td>\n",
       "    </tr>\n",
       "    <tr>\n",
       "      <th>mean</th>\n",
       "      <td>17.440285</td>\n",
       "      <td>57.119313</td>\n",
       "      <td>17.933194</td>\n",
       "    </tr>\n",
       "    <tr>\n",
       "      <th>std</th>\n",
       "      <td>9.647999</td>\n",
       "      <td>88.670423</td>\n",
       "      <td>10.647635</td>\n",
       "    </tr>\n",
       "    <tr>\n",
       "      <th>min</th>\n",
       "      <td>4.200000</td>\n",
       "      <td>3.230000</td>\n",
       "      <td>2.400000</td>\n",
       "    </tr>\n",
       "    <tr>\n",
       "      <th>25%</th>\n",
       "      <td>8.077500</td>\n",
       "      <td>8.760000</td>\n",
       "      <td>6.280000</td>\n",
       "    </tr>\n",
       "    <tr>\n",
       "      <th>50%</th>\n",
       "      <td>14.885000</td>\n",
       "      <td>11.990000</td>\n",
       "      <td>18.150000</td>\n",
       "    </tr>\n",
       "    <tr>\n",
       "      <th>75%</th>\n",
       "      <td>26.340000</td>\n",
       "      <td>68.017500</td>\n",
       "      <td>27.300000</td>\n",
       "    </tr>\n",
       "    <tr>\n",
       "      <th>max</th>\n",
       "      <td>43.620000</td>\n",
       "      <td>422.000000</td>\n",
       "      <td>42.780000</td>\n",
       "    </tr>\n",
       "  </tbody>\n",
       "</table>\n",
       "</div>"
      ],
      "text/plain": [
       "                AA         AAPL           GE\n",
       "count  5472.000000  5472.000000  5472.000000\n",
       "mean     17.440285    57.119313    17.933194\n",
       "std       9.647999    88.670423    10.647635\n",
       "min       4.200000     3.230000     2.400000\n",
       "25%       8.077500     8.760000     6.280000\n",
       "50%      14.885000    11.990000    18.150000\n",
       "75%      26.340000    68.017500    27.300000\n",
       "max      43.620000   422.000000    42.780000"
      ]
     },
     "execution_count": 6,
     "metadata": {},
     "output_type": "execute_result"
    }
   ],
   "source": [
    "stock_data.describe()"
   ]
  },
  {
   "cell_type": "code",
   "execution_count": 18,
   "metadata": {},
   "outputs": [
    {
     "data": {
      "text/html": [
       "<div>\n",
       "<style scoped>\n",
       "    .dataframe tbody tr th:only-of-type {\n",
       "        vertical-align: middle;\n",
       "    }\n",
       "\n",
       "    .dataframe tbody tr th {\n",
       "        vertical-align: top;\n",
       "    }\n",
       "\n",
       "    .dataframe thead th {\n",
       "        text-align: right;\n",
       "    }\n",
       "</style>\n",
       "<table border=\"1\" class=\"dataframe\">\n",
       "  <thead>\n",
       "    <tr style=\"text-align: right;\">\n",
       "      <th></th>\n",
       "      <th>AA</th>\n",
       "      <th>AAPL</th>\n",
       "      <th>GE</th>\n",
       "    </tr>\n",
       "  </thead>\n",
       "  <tbody>\n",
       "    <tr>\n",
       "      <th>0</th>\n",
       "      <td>49.8</td>\n",
       "      <td>78.6</td>\n",
       "      <td>28.7</td>\n",
       "    </tr>\n",
       "    <tr>\n",
       "      <th>1</th>\n",
       "      <td>50.4</td>\n",
       "      <td>80.0</td>\n",
       "      <td>28.7</td>\n",
       "    </tr>\n",
       "    <tr>\n",
       "      <th>2</th>\n",
       "      <td>50.7</td>\n",
       "      <td>81.8</td>\n",
       "      <td>28.7</td>\n",
       "    </tr>\n",
       "    <tr>\n",
       "      <th>3</th>\n",
       "      <td>50.1</td>\n",
       "      <td>81.2</td>\n",
       "      <td>28.8</td>\n",
       "    </tr>\n",
       "    <tr>\n",
       "      <th>4</th>\n",
       "      <td>50.4</td>\n",
       "      <td>77.7</td>\n",
       "      <td>29.1</td>\n",
       "    </tr>\n",
       "    <tr>\n",
       "      <th>...</th>\n",
       "      <td>...</td>\n",
       "      <td>...</td>\n",
       "      <td>...</td>\n",
       "    </tr>\n",
       "    <tr>\n",
       "      <th>96</th>\n",
       "      <td>53.9</td>\n",
       "      <td>94.0</td>\n",
       "      <td>33.0</td>\n",
       "    </tr>\n",
       "    <tr>\n",
       "      <th>97</th>\n",
       "      <td>53.9</td>\n",
       "      <td>98.4</td>\n",
       "      <td>33.0</td>\n",
       "    </tr>\n",
       "    <tr>\n",
       "      <th>98</th>\n",
       "      <td>53.2</td>\n",
       "      <td>97.5</td>\n",
       "      <td>32.7</td>\n",
       "    </tr>\n",
       "    <tr>\n",
       "      <th>99</th>\n",
       "      <td>52.9</td>\n",
       "      <td>96.9</td>\n",
       "      <td>32.7</td>\n",
       "    </tr>\n",
       "    <tr>\n",
       "      <th>100</th>\n",
       "      <td>52.2</td>\n",
       "      <td>95.5</td>\n",
       "      <td>32.5</td>\n",
       "    </tr>\n",
       "  </tbody>\n",
       "</table>\n",
       "<p>101 rows × 3 columns</p>\n",
       "</div>"
      ],
      "text/plain": [
       "       AA  AAPL    GE\n",
       "0    49.8  78.6  28.7\n",
       "1    50.4  80.0  28.7\n",
       "2    50.7  81.8  28.7\n",
       "3    50.1  81.2  28.8\n",
       "4    50.4  77.7  29.1\n",
       "..    ...   ...   ...\n",
       "96   53.9  94.0  33.0\n",
       "97   53.9  98.4  33.0\n",
       "98   53.2  97.5  32.7\n",
       "99   52.9  96.9  32.7\n",
       "100  52.2  95.5  32.5\n",
       "\n",
       "[101 rows x 3 columns]"
      ]
     },
     "execution_count": 18,
     "metadata": {},
     "output_type": "execute_result"
    }
   ],
   "source": [
    "stock_data = stock_data.loc[:100] * 10\n",
    "stock_data"
   ]
  },
  {
   "cell_type": "code",
   "execution_count": 19,
   "metadata": {},
   "outputs": [
    {
     "data": {
      "text/plain": [
       "array([[ 49.8,  78.6,  28.7],\n",
       "       [ 50.4,  80. ,  28.7],\n",
       "       [ 50.7,  81.8,  28.7],\n",
       "       [ 50.1,  81.2,  28.8],\n",
       "       [ 50.4,  77.7,  29.1],\n",
       "       [ 50.4,  77.1,  29.2],\n",
       "       [ 50.6,  80. ,  29.4],\n",
       "       [ 49.6,  79.4,  28.9],\n",
       "       [ 49.1,  80.6,  28.8],\n",
       "       [ 49.4,  80. ,  28.9],\n",
       "       [ 49.9,  80. ,  29.1],\n",
       "       [ 51. ,  79.1,  28.8],\n",
       "       [ 50.4,  78.5,  28.3],\n",
       "       [ 50.1,  79.7,  28.1],\n",
       "       [ 50.6,  77.3,  28.2],\n",
       "       [ 50.7,  77.9,  28.1],\n",
       "       [ 51.3,  79.7,  28.4],\n",
       "       [ 51.6,  78.5,  28.8],\n",
       "       [ 52.2,  79.7,  28.9],\n",
       "       [ 52.6,  80.3,  28.8],\n",
       "       [ 54.1,  79.1,  29.2],\n",
       "       [ 53.9,  80.8,  28.9],\n",
       "       [ 54. ,  82.6,  29.2],\n",
       "       [ 53.6,  82.9,  29.3],\n",
       "       [ 53.4,  86.1,  29.5],\n",
       "       [ 53.3,  86.4,  29.3],\n",
       "       [ 53.4,  85.8,  29.2],\n",
       "       [ 52.9,  86.4,  29. ],\n",
       "       [ 52.8,  86.7,  29.5],\n",
       "       [ 53.6,  86.1,  29.6],\n",
       "       [ 54.4,  94.3,  29.9],\n",
       "       [ 55.3,  99.3,  30.3],\n",
       "       [ 54.6,  97. ,  30.1],\n",
       "       [ 54.1,  97.6,  30. ],\n",
       "       [ 53.4,  95.5,  29.6],\n",
       "       [ 53.3,  99. ,  29.8],\n",
       "       [ 53.2,  99. ,  29.9],\n",
       "       [ 53.5,  98.4,  30.3],\n",
       "       [ 54.1,  96.7,  30.3],\n",
       "       [ 53.6,  96.4,  30.2],\n",
       "       [ 52.6,  94.3,  30.1],\n",
       "       [ 51.8,  94.3,  29.9],\n",
       "       [ 51.7,  97.8,  30.4],\n",
       "       [ 51.3,  96.7,  30.1],\n",
       "       [ 51.5,  94.3,  30.1],\n",
       "       [ 50.4,  93.5,  30.1],\n",
       "       [ 50.6,  96.4,  30.2],\n",
       "       [ 51.1,  96.7,  30.1],\n",
       "       [ 52. ,  99.6,  30.3],\n",
       "       [ 52.5, 101.3,  30.9],\n",
       "       [ 52.7, 102.5,  31.2],\n",
       "       [ 52.6, 101.3,  31.3],\n",
       "       [ 52.1, 101.3,  31.1],\n",
       "       [ 51.5,  94.3,  30.8],\n",
       "       [ 51. ,  94.3,  30.6],\n",
       "       [ 50.4,  93.1,  30.2],\n",
       "       [ 50.7,  90.8,  30.1],\n",
       "       [ 51. ,  90.8,  30.1],\n",
       "       [ 51.2,  91.1,  30.2],\n",
       "       [ 51.4,  91.7,  29.9],\n",
       "       [ 50.7,  92.3,  29.9],\n",
       "       [ 50.7,  92.9,  30.1],\n",
       "       [ 50.9,  93.1,  30.3],\n",
       "       [ 51.1,  93.7,  30.3],\n",
       "       [ 51.1,  93.7,  30.6],\n",
       "       [ 51.9,  97.2,  30.8],\n",
       "       [ 52.3,  97.8,  31. ],\n",
       "       [ 51.9,  98.1,  31.2],\n",
       "       [ 51.9,  97. ,  31.5],\n",
       "       [ 52.5,  99.9,  31.9],\n",
       "       [ 52.7,  97.8,  32. ],\n",
       "       [ 53.1,  97.8,  31.9],\n",
       "       [ 52.8,  97.6,  31.9],\n",
       "       [ 53.5,  97.2,  31.8],\n",
       "       [ 53.7,  93.1,  31.9],\n",
       "       [ 54.4,  92.8,  32. ],\n",
       "       [ 55.1,  97.2,  32. ],\n",
       "       [ 54.4,  98.7,  32. ],\n",
       "       [ 53.2,  98.7,  32.5],\n",
       "       [ 53.1,  94. ,  32. ],\n",
       "       [ 53.5,  96.3,  32.6],\n",
       "       [ 53.5,  97.2,  32.5],\n",
       "       [ 53.9,  96.9,  32.4],\n",
       "       [ 54.6,  95.8,  32.7],\n",
       "       [ 55.8,  95.8,  33.1],\n",
       "       [ 55.7,  92.8,  32.9],\n",
       "       [ 55.5,  92.8,  32.7],\n",
       "       [ 55. ,  91.6,  32.6],\n",
       "       [ 54.8,  89.9,  32.3],\n",
       "       [ 55. ,  91.6,  32.4],\n",
       "       [ 55.1,  95.2,  33.1],\n",
       "       [ 54.9,  93.4,  33.1],\n",
       "       [ 54.6,  93.4,  32.8],\n",
       "       [ 53.9,  92.8,  33. ],\n",
       "       [ 53.3,  92.2,  32.6],\n",
       "       [ 53.1,  93.1,  32.9],\n",
       "       [ 53.9,  94. ,  33. ],\n",
       "       [ 53.9,  98.4,  33. ],\n",
       "       [ 53.2,  97.5,  32.7],\n",
       "       [ 52.9,  96.9,  32.7],\n",
       "       [ 52.2,  95.5,  32.5]])"
      ]
     },
     "execution_count": 19,
     "metadata": {},
     "output_type": "execute_result"
    }
   ],
   "source": [
    "stock_data_array = np.array(stock_data)\n",
    "stock_data_array"
   ]
  },
  {
   "cell_type": "code",
   "execution_count": 20,
   "metadata": {},
   "outputs": [
    {
     "data": {
      "image/png": "[encoded data removed]",
      "text/plain": [
       "<Figure size 432x288 with 1 Axes>"
      ]
     },
     "metadata": {
      "needs_background": "light"
     },
     "output_type": "display_data"
    }
   ],
   "source": [
    "bp = plt.boxplot(stock_data_array, vert=False, patch_artist=True)"
   ]
  },
  {
   "cell_type": "code",
   "execution_count": 21,
   "metadata": {},
   "outputs": [
    {
     "data": {
      "text/plain": [
       "([<matplotlib.axis.XTick at 0x23845baffc8>,\n",
       "  <matplotlib.axis.XTick at 0x23845d8d448>,\n",
       "  <matplotlib.axis.XTick at 0x23845ce9e88>],\n",
       " <a list of 3 Text xticklabel objects>)"
      ]
     },
     "execution_count": 21,
     "metadata": {},
     "output_type": "execute_result"
    },
    {
     "data": {
      "image/png": "[encoded data removed]",
      "text/plain": [
       "<Figure size 432x288 with 1 Axes>"
      ]
     },
     "metadata": {
      "needs_background": "light"
     },
     "output_type": "display_data"
    }
   ],
   "source": [
    "colors = ['blue','grey','lawngreen']\n",
    "\n",
    "bp = plt.boxplot(stock_data_array, patch_artist=True)\n",
    "\n",
    "for i in range(len(bp['boxes'])):\n",
    "    bp['boxes'][i].set(facecolor=colors[i])\n",
    "    bp['caps'][2*i + 1].set(color=colors[i])\n",
    "    \n",
    "plt.xticks([1,2,3],['AA','AAPL','GE'])"
   ]
  },
  {
   "cell_type": "markdown",
   "metadata": {},
   "source": [
    "<h3>Violin Plot</h3>\n",
    "\n",
    "This displayes the density of the dataset over it's range of values.\n",
    "\n",
    "By default Violin plot don't show median information, to show median use showmedian=True"
   ]
  },
  {
   "cell_type": "code",
   "execution_count": 29,
   "metadata": {},
   "outputs": [
    {
     "data": {
      "text/plain": [
       "([<matplotlib.axis.YTick at 0x23845ef7d48>,\n",
       "  <matplotlib.axis.YTick at 0x23845fdbbc8>,\n",
       "  <matplotlib.axis.YTick at 0x23845fbd588>],\n",
       " <a list of 3 Text yticklabel objects>)"
      ]
     },
     "execution_count": 29,
     "metadata": {},
     "output_type": "execute_result"
    },
    {
     "data": {
      "image/png": "[encoded data removed]",
      "text/plain": [
       "<Figure size 432x288 with 1 Axes>"
      ]
     },
     "metadata": {
      "needs_background": "light"
     },
     "output_type": "display_data"
    }
   ],
   "source": [
    "vp =  plt.violinplot(stock_data_array, showmedians=True)\n",
    "\n",
    "plt.yticks([1,2,3],['AA','AAPL','GE'])"
   ]
  },
  {
   "cell_type": "code",
   "execution_count": 30,
   "metadata": {},
   "outputs": [
    {
     "data": {
      "text/plain": [
       "([<matplotlib.axis.YTick at 0x23846079ec8>,\n",
       "  <matplotlib.axis.YTick at 0x23845fb9c08>,\n",
       "  <matplotlib.axis.YTick at 0x2384606d648>],\n",
       " <a list of 3 Text yticklabel objects>)"
      ]
     },
     "execution_count": 30,
     "metadata": {},
     "output_type": "execute_result"
    },
    {
     "data": {
      "image/png": "[encoded data removed]",
      "text/plain": [
       "<Figure size 432x288 with 1 Axes>"
      ]
     },
     "metadata": {
      "needs_background": "light"
     },
     "output_type": "display_data"
    }
   ],
   "source": [
    "vp =  plt.violinplot(stock_data_array, showmedians=True, vert=False)\n",
    "\n",
    "plt.yticks([1,2,3],['AA','AAPL','GE'])"
   ]
  },
  {
   "cell_type": "code",
   "execution_count": 32,
   "metadata": {},
   "outputs": [
    {
     "data": {
      "text/plain": [
       "{'bodies': [<matplotlib.collections.PolyCollection at 0x238460aa188>,\n",
       "  <matplotlib.collections.PolyCollection at 0x238460ad388>,\n",
       "  <matplotlib.collections.PolyCollection at 0x238460ad288>],\n",
       " 'cmaxes': <matplotlib.collections.LineCollection at 0x238460b0348>,\n",
       " 'cmins': <matplotlib.collections.LineCollection at 0x238460b5388>,\n",
       " 'cbars': <matplotlib.collections.LineCollection at 0x238460b8648>,\n",
       " 'cmedians': <matplotlib.collections.LineCollection at 0x238460ba6c8>}"
      ]
     },
     "execution_count": 32,
     "metadata": {},
     "output_type": "execute_result"
    }
   ],
   "source": [
    "# violinplot() return Patch so you can do whole log customization with returned Patch \n",
    "\n",
    "# Only bodies component can be customized individually\n",
    "vp"
   ]
  },
  {
   "cell_type": "code",
   "execution_count": 34,
   "metadata": {},
   "outputs": [
    {
     "data": {
      "image/png": "[encoded data removed]",
      "text/plain": [
       "<Figure size 432x288 with 1 Axes>"
      ]
     },
     "metadata": {
      "needs_background": "light"
     },
     "output_type": "display_data"
    }
   ],
   "source": [
    "vp =  plt.violinplot(stock_data_array, showmedians=True, vert=False)\n",
    "\n",
    "plt.yticks([1,2,3],['AA','AAPL','GE'])\n",
    "\n",
    "for i in range(len(vp['bodies'])):\n",
    "    vp['bodies'][i].set(facecolor=colors[i])"
   ]
  },
  {
   "cell_type": "markdown",
   "metadata": {},
   "source": [
    "cmaxes, cmins, cbars and cmedians apply to all violin plots and cannot be customized individually"
   ]
  },
  {
   "cell_type": "code",
   "execution_count": 35,
   "metadata": {},
   "outputs": [
    {
     "data": {
      "text/plain": [
       "[None]"
      ]
     },
     "execution_count": 35,
     "metadata": {},
     "output_type": "execute_result"
    },
    {
     "data": {
      "image/png": "[encoded data removed]",
      "text/plain": [
       "<Figure size 432x288 with 1 Axes>"
      ]
     },
     "metadata": {
      "needs_background": "light"
     },
     "output_type": "display_data"
    }
   ],
   "source": [
    "vp =  plt.violinplot(stock_data_array, showmedians=True, vert=False)\n",
    "\n",
    "plt.yticks([1,2,3],['AA','AAPL','GE'])\n",
    "\n",
    "for i in range(len(vp['bodies'])):\n",
    "    vp['bodies'][i].set(facecolor=colors[i])\n",
    "    \n",
    "vp['cmaxes'].set(color='maroon')\n",
    "vp['cmins'].set(color='black')\n",
    "vp['cbars'].set(linestyle=':')\n",
    "vp['cmedians'].set(linewidth=6)"
   ]
  },
  {
   "cell_type": "code",
   "execution_count": 37,
   "metadata": {},
   "outputs": [
    {
     "data": {
      "text/plain": [
       "<matplotlib.legend.Legend at 0x238461a7d08>"
      ]
     },
     "execution_count": 37,
     "metadata": {},
     "output_type": "execute_result"
    },
    {
     "data": {
      "image/png": "[encoded data removed]",
      "text/plain": [
       "<Figure size 432x288 with 1 Axes>"
      ]
     },
     "metadata": {
      "needs_background": "light"
     },
     "output_type": "display_data"
    }
   ],
   "source": [
    "vp =  plt.violinplot(stock_data_array, showmedians=True, vert=False)\n",
    "\n",
    "plt.yticks([1,2,3],['AA','AAPL','GE'])\n",
    "\n",
    "for i in range(len(vp['bodies'])):\n",
    "    vp['bodies'][i].set(facecolor=colors[i])\n",
    "    \n",
    "plt.legend(handles = [vp['bodies'][0], vp['bodies'][1]],\n",
    "          labels = ['AA','AAPL'],\n",
    "          loc='upper right')  "
   ]
  },
  {
   "cell_type": "markdown",
   "metadata": {},
   "source": [
    "<h2>Histograms</h2>\n",
    "\n",
    "In order to plot histogram, you need to divide your X axis into ranges or bins and specify the Y axis as the frequency or number of data points that are present in each bin."
   ]
  },
  {
   "cell_type": "code",
   "execution_count": 45,
   "metadata": {},
   "outputs": [
    {
     "data": {
      "text/html": [
       "<div>\n",
       "<style scoped>\n",
       "    .dataframe tbody tr th:only-of-type {\n",
       "        vertical-align: middle;\n",
       "    }\n",
       "\n",
       "    .dataframe tbody tr th {\n",
       "        vertical-align: top;\n",
       "    }\n",
       "\n",
       "    .dataframe thead th {\n",
       "        text-align: right;\n",
       "    }\n",
       "</style>\n",
       "<table border=\"1\" class=\"dataframe\">\n",
       "  <thead>\n",
       "    <tr style=\"text-align: right;\">\n",
       "      <th></th>\n",
       "      <th>Date</th>\n",
       "      <th>New York</th>\n",
       "      <th>Los Angeles</th>\n",
       "      <th>Miami</th>\n",
       "    </tr>\n",
       "  </thead>\n",
       "  <tbody>\n",
       "    <tr>\n",
       "      <th>0</th>\n",
       "      <td>1/1/16</td>\n",
       "      <td>985</td>\n",
       "      <td>122</td>\n",
       "      <td>499</td>\n",
       "    </tr>\n",
       "    <tr>\n",
       "      <th>1</th>\n",
       "      <td>1/2/16</td>\n",
       "      <td>738</td>\n",
       "      <td>788</td>\n",
       "      <td>534</td>\n",
       "    </tr>\n",
       "    <tr>\n",
       "      <th>2</th>\n",
       "      <td>1/3/16</td>\n",
       "      <td>14</td>\n",
       "      <td>20</td>\n",
       "      <td>933</td>\n",
       "    </tr>\n",
       "    <tr>\n",
       "      <th>3</th>\n",
       "      <td>1/4/16</td>\n",
       "      <td>730</td>\n",
       "      <td>904</td>\n",
       "      <td>885</td>\n",
       "    </tr>\n",
       "    <tr>\n",
       "      <th>4</th>\n",
       "      <td>1/5/16</td>\n",
       "      <td>114</td>\n",
       "      <td>71</td>\n",
       "      <td>253</td>\n",
       "    </tr>\n",
       "    <tr>\n",
       "      <th>5</th>\n",
       "      <td>1/6/16</td>\n",
       "      <td>936</td>\n",
       "      <td>502</td>\n",
       "      <td>497</td>\n",
       "    </tr>\n",
       "    <tr>\n",
       "      <th>6</th>\n",
       "      <td>1/7/16</td>\n",
       "      <td>123</td>\n",
       "      <td>996</td>\n",
       "      <td>115</td>\n",
       "    </tr>\n",
       "    <tr>\n",
       "      <th>7</th>\n",
       "      <td>1/8/16</td>\n",
       "      <td>935</td>\n",
       "      <td>492</td>\n",
       "      <td>886</td>\n",
       "    </tr>\n",
       "    <tr>\n",
       "      <th>8</th>\n",
       "      <td>1/9/16</td>\n",
       "      <td>846</td>\n",
       "      <td>954</td>\n",
       "      <td>823</td>\n",
       "    </tr>\n",
       "    <tr>\n",
       "      <th>9</th>\n",
       "      <td>1/10/16</td>\n",
       "      <td>54</td>\n",
       "      <td>285</td>\n",
       "      <td>216</td>\n",
       "    </tr>\n",
       "  </tbody>\n",
       "</table>\n",
       "</div>"
      ],
      "text/plain": [
       "      Date  New York  Los Angeles  Miami\n",
       "0   1/1/16       985          122    499\n",
       "1   1/2/16       738          788    534\n",
       "2   1/3/16        14           20    933\n",
       "3   1/4/16       730          904    885\n",
       "4   1/5/16       114           71    253\n",
       "5   1/6/16       936          502    497\n",
       "6   1/7/16       123          996    115\n",
       "7   1/8/16       935          492    886\n",
       "8   1/9/16       846          954    823\n",
       "9  1/10/16        54          285    216"
      ]
     },
     "execution_count": 45,
     "metadata": {},
     "output_type": "execute_result"
    }
   ],
   "source": [
    "data = pd.read_csv('resource/revenue.csv')\n",
    "\n",
    "data"
   ]
  },
  {
   "cell_type": "code",
   "execution_count": 49,
   "metadata": {},
   "outputs": [
    {
     "data": {
      "text/plain": [
       "(array([1., 2., 0., 0., 2., 1., 0., 0., 1., 3.]),\n",
       " array([115. , 196.8, 278.6, 360.4, 442.2, 524. , 605.8, 687.6, 769.4,\n",
       "        851.2, 933. ]),\n",
       " <a list of 10 Patch objects>)"
      ]
     },
     "execution_count": 49,
     "metadata": {},
     "output_type": "execute_result"
    },
    {
     "data": {
      "image/png": "[encoded data removed]",
      "text/plain": [
       "<Figure size 432x288 with 1 Axes>"
      ]
     },
     "metadata": {
      "needs_background": "light"
     },
     "output_type": "display_data"
    }
   ],
   "source": [
    "plt.hist(data['Miami'],\n",
    "        facecolor='cyan',\n",
    "        edgecolor='blue',\n",
    "        bins=10)"
   ]
  },
  {
   "cell_type": "markdown",
   "metadata": {},
   "source": [
    "Any histogram representation has three different components:\n",
    "\n",
    "N : the frequency of each bin [Value on Y axis]<br>\n",
    "bins : the number of bins <br>\n",
    "patches : the shape that define the shape of histogram bar for each bin"
   ]
  },
  {
   "cell_type": "code",
   "execution_count": 50,
   "metadata": {},
   "outputs": [
    {
     "name": "stdout",
     "output_type": "stream",
     "text": [
      "n:  [1. 2. 0. 0. 2. 1. 0. 0. 1. 3.]\n",
      "bins :  [115.  196.8 278.6 360.4 442.2 524.  605.8 687.6 769.4 851.2 933. ]\n",
      "patches :  <a list of 10 Patch objects>\n"
     ]
    },
    {
     "data": {
      "image/png": "[encoded data removed]",
      "text/plain": [
       "<Figure size 432x288 with 1 Axes>"
      ]
     },
     "metadata": {
      "needs_background": "light"
     },
     "output_type": "display_data"
    }
   ],
   "source": [
    "n,bins,patches = plt.hist(data['Miami'],\n",
    "        facecolor='cyan',\n",
    "        edgecolor='blue',\n",
    "        bins=10)\n",
    "\n",
    "print('n: ',n)\n",
    "print('bins : ', bins)\n",
    "print('patches : ', patches)"
   ]
  },
  {
   "cell_type": "markdown",
   "metadata": {},
   "source": [
    "Instead of frequency, we plot the probability density for each bin on Y axis.<br>\n",
    "\n",
    "pass density=True in plt.hist() function<br>\n",
    "\n",
    "Other options available are:\n",
    "    1. cumulative=True\n",
    "    2. "
   ]
  },
  {
   "cell_type": "code",
   "execution_count": 51,
   "metadata": {},
   "outputs": [
    {
     "name": "stdout",
     "output_type": "stream",
     "text": [
      "n:  [0.00122249 0.00244499 0.         0.         0.00244499 0.00122249\n",
      " 0.         0.         0.00122249 0.00366748]\n",
      "bins :  [115.  196.8 278.6 360.4 442.2 524.  605.8 687.6 769.4 851.2 933. ]\n",
      "patches :  <a list of 10 Patch objects>\n"
     ]
    },
    {
     "data": {
      "image/png": "[encoded data removed]",
      "text/plain": [
       "<Figure size 432x288 with 1 Axes>"
      ]
     },
     "metadata": {
      "needs_background": "light"
     },
     "output_type": "display_data"
    }
   ],
   "source": [
    "n,bins,patches = plt.hist(data['Miami'],\n",
    "        facecolor='cyan',\n",
    "        edgecolor='blue',\n",
    "        bins=10,\n",
    "        density=True)\n",
    "\n",
    "print('n: ',n)\n",
    "print('bins : ', bins)\n",
    "print('patches : ', patches)"
   ]
  },
  {
   "cell_type": "code",
   "execution_count": 53,
   "metadata": {},
   "outputs": [
    {
     "data": {
      "text/plain": [
       "(array([4., 0., 0., 0., 0., 2., 1., 3.]),\n",
       " array([ 14.   , 135.375, 256.75 , 378.125, 499.5  , 620.875, 742.25 ,\n",
       "        863.625, 985.   ]),\n",
       " <a list of 8 Patch objects>)"
      ]
     },
     "execution_count": 53,
     "metadata": {},
     "output_type": "execute_result"
    },
    {
     "data": {
      "image/png": "[encoded data removed]",
      "text/plain": [
       "<Figure size 432x288 with 1 Axes>"
      ]
     },
     "metadata": {
      "needs_background": "light"
     },
     "output_type": "display_data"
    }
   ],
   "source": [
    "plt.hist(data['Miami'],\n",
    "        facecolor='cyan',\n",
    "        edgecolor='blue',\n",
    "        bins=10)\n",
    "\n",
    "plt.hist(data['New York'],\n",
    "        facecolor='lightyellow',\n",
    "        edgecolor='maroon',\n",
    "        bins=8,\n",
    "        alpha= 0.2)"
   ]
  },
  {
   "cell_type": "markdown",
   "metadata": {},
   "source": [
    "<h2>Pie Charts</h2>"
   ]
  },
  {
   "cell_type": "code",
   "execution_count": null,
   "metadata": {},
   "outputs": [],
   "source": []
  }
 ],
 "metadata": {
  "kernelspec": {
   "display_name": "Python 3",
   "language": "python",
   "name": "python3"
  },
  "language_info": {
   "codemirror_mode": {
    "name": "ipython",
    "version": 3
   },
   "file_extension": ".py",
   "mimetype": "text/x-python",
   "name": "python",
   "nbconvert_exporter": "python",
   "pygments_lexer": "ipython3",
   "version": "3.7.6"
  }
 },
 "nbformat": 4,
 "nbformat_minor": 4
}
