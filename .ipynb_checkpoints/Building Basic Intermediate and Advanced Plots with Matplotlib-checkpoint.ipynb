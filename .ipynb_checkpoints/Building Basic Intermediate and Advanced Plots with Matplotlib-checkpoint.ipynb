{
 "cells": [
  {
   "cell_type": "markdown",
   "metadata": {},
   "source": [
    "If you have a visualization that uses some kind of shape, you can use Matplotlib to plot these shapes on a graph. Matplotlib can plot extremely complex shapes, arbitrary polygons and Bezier curves that are curves plotted according to a mathematical formula.\n",
    "\n",
    "Matplotlib can be used to do below complex operations:\n",
    "\n",
    "    1. Plot complex shapes, polygon and Bezier curves\n",
    "    2. Text annotations on graphs to convey information\n",
    "    3. Different units on the same axis using twin axis\n",
    "    4. Different scales on each axis"
   ]
  },
  {
   "cell_type": "markdown",
   "metadata": {},
   "source": [
    "<h3>Drawing shapes with patches module</h3>\n",
    "\n",
    "Patches module allows you to plot arbitrary shapes on graphs [from very simple shape to very complex shape]"
   ]
  },
  {
   "cell_type": "code",
   "execution_count": 1,
   "metadata": {},
   "outputs": [],
   "source": [
    "import matplotlib\n",
    "import matplotlib.pyplot as plt\n",
    "import matplotlib.patches as patches\n",
    "# import numpy as np\n",
    "# import pandas as pd\n",
    "\n"
   ]
  },
  {
   "cell_type": "markdown",
   "metadata": {},
   "source": [
    "**A patch in Matplotlib represents 2D objects**\n",
    "\n",
    "We will add Rectangle patch which is inbuild patch in matplotlib. By default patch will be filled in with Blue color.\n",
    "Passing fill=False will leave rectangle un-filled\n",
    "\n",
    "*NOTE* : Even though each axis is 1 unit long, the X axis appears longer than the Y axis. This is because of the default aspect ratio that matplotlib uses. If you want the aspect ratio, you can call ax.set_aspect() function."
   ]
  },
  {
   "cell_type": "code",
   "execution_count": 7,
   "metadata": {},
   "outputs": [
    {
     "data": {
      "text/plain": [
       "<matplotlib.patches.Rectangle at 0x1d78c739a48>"
      ]
     },
     "execution_count": 7,
     "metadata": {},
     "output_type": "execute_result"
    },
    {
     "data": {
      "image/png": "[encoded data removed]",
      "text/plain": [
       "<Figure size 432x288 with 1 Axes>"
      ]
     },
     "metadata": {
      "needs_background": "light"
     },
     "output_type": "display_data"
    }
   ],
   "source": [
    "fig, ax = plt.subplots()\n",
    "\n",
    "# ax.set_aspect(aspect='equal') #This will make below figure as square\n",
    "\n",
    "ax.add_patch(patches.Rectangle(\n",
    "        (0.1,0.1),\n",
    "        0.5,\n",
    "        0.5,\n",
    "        fill=False\n",
    "    )\n",
    ")"
   ]
  },
  {
   "cell_type": "markdown",
   "metadata": {},
   "source": [
    "You can customize Patch very granularly"
   ]
  },
  {
   "cell_type": "code",
   "execution_count": 8,
   "metadata": {},
   "outputs": [
    {
     "data": {
      "text/plain": [
       "<matplotlib.patches.Rectangle at 0x1d78c8bda48>"
      ]
     },
     "execution_count": 8,
     "metadata": {},
     "output_type": "execute_result"
    },
    {
     "data": {
      "image/png": "[encoded data removed]",
      "text/plain": [
       "<Figure size 432x288 with 1 Axes>"
      ]
     },
     "metadata": {
      "needs_background": "light"
     },
     "output_type": "display_data"
    }
   ],
   "source": [
    "fig, ax = plt.subplots()\n",
    "\n",
    "ax.set_aspect(aspect='equal') #This will make below figure as square\n",
    "\n",
    "ax.add_patch(patches.Rectangle(\n",
    "        (0.1,0.1),\n",
    "        0.5,\n",
    "        0.5,\n",
    "        facecolor='yellow',\n",
    "        edgecolor='green'\n",
    "    )\n",
    ")"
   ]
  },
  {
   "cell_type": "code",
   "execution_count": 9,
   "metadata": {},
   "outputs": [
    {
     "data": {
      "image/png": "[encoded data removed]",
      "text/plain": [
       "<Figure size 432x288 with 1 Axes>"
      ]
     },
     "metadata": {
      "needs_background": "light"
     },
     "output_type": "display_data"
    }
   ],
   "source": [
    "fig, ax = plt.subplots()\n",
    "\n",
    "ax.set_aspect(aspect='equal')\n",
    "for p in [\n",
    "    patches.Rectangle((0.1,0.1),0.3,0.6, hatch='.'),\n",
    "    patches.Rectangle((0.5,0.1),0.3,0.6, hatch='\\\\', fill=False)\n",
    "]:\n",
    "    ax.add_patch(p)"
   ]
  },
  {
   "cell_type": "code",
   "execution_count": 10,
   "metadata": {},
   "outputs": [
    {
     "data": {
      "image/png": "[encoded data removed]",
      "text/plain": [
       "<Figure size 432x288 with 1 Axes>"
      ]
     },
     "metadata": {
      "needs_background": "light"
     },
     "output_type": "display_data"
    }
   ],
   "source": [
    "fig, ax = plt.subplots()\n",
    "\n",
    "ax.set_aspect(aspect='equal')\n",
    "\n",
    "for p in [\n",
    "    patches.Rectangle((0.1,0.1),0.2,0.6, alpha=None),\n",
    "    patches.Rectangle((0.4,0.1),0.2,0.6, alpha=1.0),\n",
    "    patches.Rectangle((0.7,0.1),0.2,0.6, alpha=0.6),\n",
    "    patches.Rectangle((1.0,0.1),0.2,0.6, alpha=0.1),\n",
    "]:\n",
    "    ax.add_patch(p)"
   ]
  },
  {
   "cell_type": "markdown",
   "metadata": {},
   "source": [
    "*NOTE* : the 4th patch is not on the figure as it's left edge is at right boundry of the figure.\n",
    "\n",
    "**This can be fixed using ax.set_xlim() function**"
   ]
  },
  {
   "cell_type": "code",
   "execution_count": 11,
   "metadata": {},
   "outputs": [
    {
     "data": {
      "text/plain": [
       "(0, 1.5)"
      ]
     },
     "execution_count": 11,
     "metadata": {},
     "output_type": "execute_result"
    },
    {
     "data": {
      "image/png": "[encoded data removed]",
      "text/plain": [
       "<Figure size 432x288 with 1 Axes>"
      ]
     },
     "metadata": {
      "needs_background": "light"
     },
     "output_type": "display_data"
    }
   ],
   "source": [
    "fig, ax = plt.subplots()\n",
    "\n",
    "ax.set_aspect(aspect='equal')\n",
    "\n",
    "for p in [\n",
    "    patches.Rectangle((0.1,0.1),0.2,0.6, alpha=None),\n",
    "    patches.Rectangle((0.4,0.1),0.2,0.6, alpha=1.0),\n",
    "    patches.Rectangle((0.7,0.1),0.2,0.6, alpha=0.6),\n",
    "    patches.Rectangle((1.0,0.1),0.2,0.6, alpha=0.1),\n",
    "]:\n",
    "    ax.add_patch(p)\n",
    "    \n",
    "ax.set_xlim(0,1.5)   "
   ]
  },
  {
   "cell_type": "code",
   "execution_count": 12,
   "metadata": {},
   "outputs": [
    {
     "data": {
      "text/plain": [
       "(0, 1.5)"
      ]
     },
     "execution_count": 12,
     "metadata": {},
     "output_type": "execute_result"
    },
    {
     "data": {
      "image/png": "[encoded data removed]",
      "text/plain": [
       "<Figure size 432x288 with 1 Axes>"
      ]
     },
     "metadata": {
      "needs_background": "light"
     },
     "output_type": "display_data"
    }
   ],
   "source": [
    "fig, ax = plt.subplots()\n",
    "\n",
    "ax.set_aspect(aspect='equal')\n",
    "\n",
    "for p in [\n",
    "    patches.Rectangle((0.1,0.1),0.2,0.6, facecolor=None),\n",
    "    patches.Rectangle((0.4,0.1),0.2,0.6, facecolor='none'),\n",
    "    patches.Rectangle((0.7,0.1),0.2,0.6, facecolor='red'),\n",
    "    patches.Rectangle((1.0,0.1),0.2,0.6, facecolor='#00ffff'),\n",
    "]:\n",
    "    ax.add_patch(p)\n",
    "    \n",
    "ax.set_xlim(0,1.5)   "
   ]
  },
  {
   "cell_type": "code",
   "execution_count": 13,
   "metadata": {},
   "outputs": [
    {
     "data": {
      "text/plain": [
       "(0, 1.5)"
      ]
     },
     "execution_count": 13,
     "metadata": {},
     "output_type": "execute_result"
    },
    {
     "data": {
      "image/png": "[encoded data removed]",
      "text/plain": [
       "<Figure size 432x288 with 1 Axes>"
      ]
     },
     "metadata": {
      "needs_background": "light"
     },
     "output_type": "display_data"
    }
   ],
   "source": [
    "fig, ax = plt.subplots()\n",
    "\n",
    "ax.set_aspect(aspect='equal')\n",
    "\n",
    "for p in [\n",
    "    patches.Rectangle((0.1,0.1),0.2,0.6, edgecolor=None, fill=False),\n",
    "    patches.Rectangle((0.4,0.1),0.2,0.6, edgecolor='none',fill=False),\n",
    "    patches.Rectangle((0.7,0.1),0.2,0.6, edgecolor='red',fill=False),\n",
    "    patches.Rectangle((1.0,0.1),0.2,0.6, edgecolor='#00ffff',fill=False),\n",
    "]:\n",
    "    ax.add_patch(p)\n",
    "    \n",
    "ax.set_xlim(0,1.5)   "
   ]
  },
  {
   "cell_type": "code",
   "execution_count": 14,
   "metadata": {},
   "outputs": [
    {
     "data": {
      "text/plain": [
       "(0, 1.5)"
      ]
     },
     "execution_count": 14,
     "metadata": {},
     "output_type": "execute_result"
    },
    {
     "data": {
      "image/png": "[encoded data removed]",
      "text/plain": [
       "<Figure size 432x288 with 1 Axes>"
      ]
     },
     "metadata": {
      "needs_background": "light"
     },
     "output_type": "display_data"
    }
   ],
   "source": [
    "fig, ax = plt.subplots()\n",
    "\n",
    "ax.set_aspect(aspect='equal')\n",
    "\n",
    "for p in [\n",
    "    patches.Rectangle((0.1,0.1),0.2,0.6, fill=False, linestyle='solid'),  # default\n",
    "    patches.Rectangle((0.4,0.1),0.2,0.6, fill=False,linestyle='dashed'),\n",
    "    patches.Rectangle((0.7,0.1),0.2,0.6, fill=False,linestyle='dashdot'),\n",
    "    patches.Rectangle((1.0,0.1),0.2,0.6, fill=False,linestyle='dotted'),\n",
    "]:\n",
    "    ax.add_patch(p)\n",
    "    \n",
    "ax.set_xlim(0,1.5)   "
   ]
  },
  {
   "cell_type": "code",
   "execution_count": 15,
   "metadata": {},
   "outputs": [
    {
     "data": {
      "image/png": "[encoded data removed]",
      "text/plain": [
       "<Figure size 432x288 with 1 Axes>"
      ]
     },
     "metadata": {
      "needs_background": "light"
     },
     "output_type": "display_data"
    }
   ],
   "source": [
    "fig, ax = plt.subplots()\n",
    "ax.set_aspect(aspect='equal')\n",
    "\n",
    "for p in [\n",
    "    patches.Circle((0.1,0.4), 0.1,hatch='/'),\n",
    "    patches.Circle((0.5,0.4), 0.1,hatch='*', facecolor='red'),\n",
    "    patches.Circle((0.9,0.4), 0.1,hatch='\\\\',facecolor='green'),\n",
    "    patches.Circle((0.5,0.7), 0.1,hatch='//', fill=False),\n",
    "]:\n",
    "    ax.add_patch(p)\n",
    "    \n",
    "    "
   ]
  },
  {
   "cell_type": "code",
   "execution_count": 18,
   "metadata": {},
   "outputs": [
    {
     "data": {
      "text/plain": [
       "<matplotlib.patches.Polygon at 0x1d78cfb4048>"
      ]
     },
     "execution_count": 18,
     "metadata": {},
     "output_type": "execute_result"
    },
    {
     "data": {
      "image/png": "[encoded data removed]",
      "text/plain": [
       "<Figure size 432x288 with 1 Axes>"
      ]
     },
     "metadata": {
      "needs_background": "light"
     },
     "output_type": "display_data"
    }
   ],
   "source": [
    "fig, ax = plt.subplots()\n",
    "ax.set_aspect(aspect='equal')\n",
    "\n",
    "polygon = patches.Polygon([[0.1,0.1],\n",
    "                           [0.2,0.8],\n",
    "                           [0.5,0.7],\n",
    "                           [0.8,0.1],\n",
    "                           [0.4,0.3]],\n",
    "                         fill=True)\n",
    "\n",
    "ax.add_patch(polygon)"
   ]
  },
  {
   "cell_type": "code",
   "execution_count": 20,
   "metadata": {},
   "outputs": [
    {
     "data": {
      "text/plain": [
       "<matplotlib.patches.Polygon at 0x1d78d115d48>"
      ]
     },
     "execution_count": 20,
     "metadata": {},
     "output_type": "execute_result"
    },
    {
     "data": {
      "image/png": "[encoded data removed]",
      "text/plain": [
       "<Figure size 432x288 with 1 Axes>"
      ]
     },
     "metadata": {
      "needs_background": "light"
     },
     "output_type": "display_data"
    }
   ],
   "source": [
    "fig, ax = plt.subplots()\n",
    "ax.set_aspect(aspect='equal')\n",
    "\n",
    "polygon = patches.Polygon([[0.1,0.1],\n",
    "                           [0.2,0.8],\n",
    "                           [0.5,0.7],\n",
    "                           [0.8,0.1],\n",
    "                           [0.4,0.3]],\n",
    "                         fill=False,\n",
    "                         closed=False)\n",
    "\n",
    "ax.add_patch(polygon)"
   ]
  },
  {
   "cell_type": "code",
   "execution_count": 21,
   "metadata": {},
   "outputs": [
    {
     "data": {
      "text/plain": [
       "<matplotlib.patches.Arrow at 0x1d78c8f1b08>"
      ]
     },
     "execution_count": 21,
     "metadata": {},
     "output_type": "execute_result"
    },
    {
     "data": {
      "image/png": "[encoded data removed]",
      "text/plain": [
       "<Figure size 432x288 with 1 Axes>"
      ]
     },
     "metadata": {
      "needs_background": "light"
     },
     "output_type": "display_data"
    }
   ],
   "source": [
    "fig, ax = plt.subplots()\n",
    "ax.set_aspect(aspect='equal')\n",
    "\n",
    "polygon = patches.Arrow(0.1,0.2,0.7,0.7)\n",
    "\n",
    "ax.add_patch(polygon)"
   ]
  },
  {
   "cell_type": "markdown",
   "metadata": {},
   "source": [
    "<h2>Plotting Bezier Curves</h2>"
   ]
  },
  {
   "cell_type": "code",
   "execution_count": null,
   "metadata": {},
   "outputs": [],
   "source": []
  }
 ],
 "metadata": {
  "kernelspec": {
   "display_name": "Python 3",
   "language": "python",
   "name": "python3"
  },
  "language_info": {
   "codemirror_mode": {
    "name": "ipython",
    "version": 3
   },
   "file_extension": ".py",
   "mimetype": "text/x-python",
   "name": "python",
   "nbconvert_exporter": "python",
   "pygments_lexer": "ipython3",
   "version": "3.7.6"
  }
 },
 "nbformat": 4,
 "nbformat_minor": 4
}
